{
  "nbformat": 4,
  "nbformat_minor": 0,
  "metadata": {
    "colab": {
      "provenance": []
    },
    "kernelspec": {
      "name": "python3",
      "display_name": "Python 3"
    },
    "language_info": {
      "name": "python"
    }
  },
  "cells": [
    {
      "cell_type": "code",
      "execution_count": 1,
      "metadata": {
        "id": "FWyMA-92xDsZ"
      },
      "outputs": [],
      "source": [
        "#import pandas library\n",
        "import pandas as pd"
      ]
    },
    {
      "cell_type": "code",
      "source": [
        "#load dataset\n",
        "df = pd.read_csv('/content/KaggleV2-May-2016.csv')"
      ],
      "metadata": {
        "id": "ifYlVrK_xXVl"
      },
      "execution_count": 2,
      "outputs": []
    },
    {
      "cell_type": "code",
      "source": [
        "# 1. Identify missing values\n",
        "print(\"Missing values:\\n\", df.isnull().sum())"
      ],
      "metadata": {
        "colab": {
          "base_uri": "https://localhost:8080/"
        },
        "collapsed": true,
        "id": "pObYo93hxoOx",
        "outputId": "902a7476-f7fa-4b1b-bbca-0a97e6195fed"
      },
      "execution_count": 3,
      "outputs": [
        {
          "output_type": "stream",
          "name": "stdout",
          "text": [
            "Missing values:\n",
            " PatientId         0\n",
            "AppointmentID     0\n",
            "Gender            0\n",
            "ScheduledDay      0\n",
            "AppointmentDay    0\n",
            "Age               0\n",
            "Neighbourhood     0\n",
            "Scholarship       0\n",
            "Hipertension      0\n",
            "Diabetes          0\n",
            "Alcoholism        0\n",
            "Handcap           0\n",
            "SMS_received      0\n",
            "No-show           0\n",
            "dtype: int64\n"
          ]
        }
      ]
    },
    {
      "cell_type": "code",
      "source": [
        "# 2. Remove duplicate rows\n",
        "df = df.drop_duplicates()"
      ],
      "metadata": {
        "id": "bNxjHD-pxzvE"
      },
      "execution_count": 4,
      "outputs": []
    },
    {
      "cell_type": "code",
      "source": [
        "# 3. Standardize text values: convert 'Gender' to lowercase\n",
        "df['Gender'] = df['Gender'].str.lower()"
      ],
      "metadata": {
        "id": "jBwTQOZyyKcU"
      },
      "execution_count": 5,
      "outputs": []
    },
    {
      "cell_type": "code",
      "source": [
        "# 4. Convert date columns to datetime and format to dd-mm-yyyy\n",
        "df['ScheduledDay'] = pd.to_datetime(df['ScheduledDay']).dt.strftime('%d-%m-%Y')\n",
        "df['AppointmentDay'] = pd.to_datetime(df['AppointmentDay']).dt.strftime('%d-%m-%Y')"
      ],
      "metadata": {
        "id": "ElwntTIdySS8"
      },
      "execution_count": 6,
      "outputs": []
    },
    {
      "cell_type": "code",
      "source": [
        "# 5. Rename column headers: lowercase, remove spaces, use underscores\n",
        "df.columns = df.columns.str.strip().str.lower().str.replace(' ', '_')"
      ],
      "metadata": {
        "id": "u3TXl2tayb-V"
      },
      "execution_count": 7,
      "outputs": []
    },
    {
      "cell_type": "code",
      "source": [
        "# 6. Fix data types\n",
        "df['age'] = df['age'].astype(int)\n",
        "df['scheduledday'] = pd.to_datetime(df['scheduledday'], format='%d-%m-%Y')\n",
        "df['appointmentday'] = pd.to_datetime(df['appointmentday'], format='%d-%m-%Y')"
      ],
      "metadata": {
        "id": "3FpHxGYAyhO2"
      },
      "execution_count": 8,
      "outputs": []
    },
    {
      "cell_type": "code",
      "source": [
        "#Save the cleaned data to a new CSV file\n",
        "df.to_csv(\"cleaned_KaggleV2-May-2016.csv\", index=False)"
      ],
      "metadata": {
        "id": "VBAlYgirynz9"
      },
      "execution_count": 9,
      "outputs": []
    }
  ]
}